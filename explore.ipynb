{
 "cells": [
  {
   "cell_type": "code",
   "execution_count": 1,
   "metadata": {
    "collapsed": false
   },
   "outputs": [],
   "source": [
    "%matplotlib inline\n",
    "import pandas as pd\n",
    "import numpy as np\n",
    "import re\n",
    "from matplotlib import pyplot as plt\n",
    "from tqdm import tqdm\n",
    "from numpy import corrcoef\n"
   ]
  },
  {
   "cell_type": "code",
   "execution_count": 2,
   "metadata": {
    "collapsed": false
   },
   "outputs": [],
   "source": [
    "mm_df = pd.read_csv('data/paperid_media_metrics.tsv', sep='\\t')\n",
    "cn_df = pd.read_csv('data/paperid_num_citations.txt', sep='\\t', names=['id', 'citation'])\n",
    "meta_df = pd.read_csv('data/paperid_metadata.tsv', sep='\\t', names=['id', 'title', 'authors', 'mail_host', 'field', 'abstract'])"
   ]
  },
  {
   "cell_type": "code",
   "execution_count": 3,
   "metadata": {
    "collapsed": false,
    "scrolled": true
   },
   "outputs": [],
   "source": [
    "# drop non-numerical rows\n",
    "mm_df['mendeley'] = pd.to_numeric(mm_df['mendeley'], errors='coerce')\n",
    "mm_df.dropna(axis=0, how='any', inplace=True)\n",
    "\n",
    "cn_df['citation'] = pd.to_numeric(cn_df['citation'], errors='coerce')\n",
    "cn_df.dropna(axis=0, how='any', inplace=True)\n",
    "\n",
    "# merge the two tables\n",
    "mm_df = pd.merge(mm_df, cn_df, left_on='paperid', right_on='id')\n",
    "mm_df.drop('id', axis=1, inplace=True)\n",
    "metric_fields = list(sorted(set(mm_df.columns) - {'paperid'}))"
   ]
  },
  {
   "cell_type": "markdown",
   "metadata": {},
   "source": [
    "## Correlattion between altimtric score and other metrics\n",
    "\n",
    "Interesting fact: \n",
    "\n",
    "citation number is negatively correlated with the altimetric score"
   ]
  },
  {
   "cell_type": "code",
   "execution_count": 4,
   "metadata": {
    "collapsed": false
   },
   "outputs": [
    {
     "data": {
      "text/plain": [
       "<matplotlib.axes._subplots.AxesSubplot at 0x7fc92efb16a0>"
      ]
     },
     "execution_count": 4,
     "metadata": {},
     "output_type": "execute_result"
    },
    {
     "data": {
      "image/png": "[encoded data removed]",
      "text/plain": [
       "<matplotlib.figure.Figure at 0x7fc92fd63cf8>"
      ]
     },
     "metadata": {},
     "output_type": "display_data"
    }
   ],
   "source": [
    "data = mm_df[metric_fields].as_matrix().T\n",
    "corrmat = pd.DataFrame(corrcoef(data), columns=metric_fields, index=metric_fields)\n",
    "corrmat['altimetric_score'].sort_values(ascending=False).plot(kind='bar', title='Correlation coefficient to altimetric score')\n",
    "\n"
   ]
  },
  {
   "cell_type": "code",
   "execution_count": 5,
   "metadata": {
    "collapsed": false
   },
   "outputs": [],
   "source": [
    "# some preprocessing for regression model's input\n",
    "\n",
    "from sklearn.feature_extraction.text import TfidfVectorizer\n",
    "from sklearn.preprocessing import OneHotEncoder, LabelEncoder\n",
    "\n",
    "meta_df['authors'] = meta_df['authors'].map(lambda s: ' '.join(s.split(';')))\n",
    "\n",
    "meta_df = pd.merge(meta_df, mm_df, left_on='id', right_on='paperid')\n",
    "meta_df.drop('paperid', axis=1, inplace=True)\n",
    "meta_df.fillna(value='', axis=0, inplace=True)\n",
    "meta_df['field'] = meta_df['field'].map(lambda s: s.replace(',', '_'))\n",
    "meta_df['authors'] = meta_df['authors'].map(lambda s: s.replace('.', '__'))"
   ]
  },
  {
   "cell_type": "code",
   "execution_count": 6,
   "metadata": {
    "collapsed": false
   },
   "outputs": [],
   "source": [
    "# split train/test data\n",
    "train = meta_df.iloc[:30000]\n",
    "test = meta_df.iloc[30000:]"
   ]
  },
  {
   "cell_type": "code",
   "execution_count": 7,
   "metadata": {
    "collapsed": false
   },
   "outputs": [
    {
     "name": "stderr",
     "output_type": "stream",
     "text": [
      "100%|██████████| 5/5 [00:11<00:00,  1.74s/it]\n"
     ]
    }
   ],
   "source": [
    "# convert text to sparse matrices\n",
    "col2tfidf = {}\n",
    "text_columns = ['title', 'authors', 'abstract', 'mail_host', 'field']\n",
    "train_mats = []\n",
    "test_mats = []\n",
    "for col in tqdm(text_columns):\n",
    "    if col in {'main_host', 'field'}:\n",
    "        tfidf = TfidfVectorizer(use_idf=False, tokenizer=None)\n",
    "    else:\n",
    "        tfidf = TfidfVectorizer(stop_words='english')\n",
    "    train_mats.append(tfidf.fit_transform(train[col].values))\n",
    "    test_mats.append(tfidf.transform(test[col].values))\n",
    "    col2tfidf[col] = tfidf"
   ]
  },
  {
   "cell_type": "code",
   "execution_count": 8,
   "metadata": {
    "collapsed": false
   },
   "outputs": [],
   "source": [
    "# concatenate different feature matrices\n",
    "from scipy.sparse import hstack, vstack\n",
    "train_X = hstack(train_mats)\n",
    "test_X = hstack(test_mats)"
   ]
  },
  {
   "cell_type": "markdown",
   "metadata": {},
   "source": [
    "## Correlation between target variable and different features\n",
    "\n",
    "The higher the correlation coefficient, the more relevant the feature is to the target variable\n",
    "\n",
    "Modify the value of `target_variable` to other variables if necessary"
   ]
  },
  {
   "cell_type": "code",
   "execution_count": 9,
   "metadata": {
    "collapsed": false
   },
   "outputs": [
    {
     "name": "stderr",
     "output_type": "stream",
     "text": [
      "100%|██████████| 5/5 [00:09<00:00,  1.49s/it]\n"
     ]
    }
   ],
   "source": [
    "from scipy.stats import pearsonr\n",
    "from joblib import Parallel, delayed\n",
    "\n",
    "target_variable = 'altimetric_score'  # modify this variable if you want to check other target variables\n",
    "\n",
    "col2tf = {}\n",
    "text_columns = ['title', 'authors', 'abstract', 'mail_host', 'field']\n",
    "mats = []\n",
    "for col in tqdm(text_columns):\n",
    "    if col in {'main_host', 'field'}:\n",
    "        tf = TfidfVectorizer(use_idf=False, tokenizer=None)\n",
    "    else:\n",
    "        tf = TfidfVectorizer(stop_words='english', use_idf=False)  # idf is disabled\n",
    "    mats.append(tf.fit_transform(meta_df[col].values))\n",
    "    col2tf[col] = tf\n",
    "    \n"
   ]
  },
  {
   "cell_type": "code",
   "execution_count": 10,
   "metadata": {
    "collapsed": false
   },
   "outputs": [],
   "source": [
    "# feature_X = train_mats[1]\n",
    "feature_X = hstack(mats).tocsc()\n",
    "Y = meta_df[target_variable].values\n",
    "coefs = Parallel(n_jobs=-1)(delayed(pearsonr)(feature_X[:, i].toarray()[:, 0], Y)\n",
    "                            for i in range(feature_X.shape[1]))\n",
    "coefs = np.array(coefs)[:, 0]"
   ]
  },
  {
   "cell_type": "code",
   "execution_count": 12,
   "metadata": {
    "collapsed": false,
    "scrolled": true
   },
   "outputs": [],
   "source": [
    "indx = []\n",
    "# for col in text_columns:\n",
    "for col in text_columns:\n",
    "    t = col2tf[col] \n",
    "    inds = list(t.vocabulary_.values())\n",
    "    id2word = {v: k for k, v in t.vocabulary_.items()}\n",
    "    indx += ['{}({})'.format(id2word[i], col) for i in range(np.min(inds), np.max(inds)+1)]    "
   ]
  },
  {
   "cell_type": "code",
   "execution_count": 13,
   "metadata": {
    "collapsed": false
   },
   "outputs": [
    {
     "name": "stdout",
     "output_type": "stream",
     "text": [
      "311036\n",
      "311036\n"
     ]
    }
   ],
   "source": [
    "print(len(indx))\n",
    "print(len(coefs))"
   ]
  },
  {
   "cell_type": "code",
   "execution_count": 14,
   "metadata": {
    "collapsed": false
   },
   "outputs": [
    {
     "name": "stdout",
     "output_type": "stream",
     "text": [
      "top-15 positively correlated features\n"
     ]
    },
    {
     "data": {
      "text/html": [
       "<div>\n",
       "<table border=\"1\" class=\"dataframe\">\n",
       "  <thead>\n",
       "    <tr style=\"text-align: right;\">\n",
       "      <th></th>\n",
       "      <th>coef</th>\n",
       "      <th>name</th>\n",
       "    </tr>\n",
       "  </thead>\n",
       "  <tbody>\n",
       "    <tr>\n",
       "      <th>32959</th>\n",
       "      <td>0.405646</td>\n",
       "      <td>adam_d___i___kramer(authors)</td>\n",
       "    </tr>\n",
       "    <tr>\n",
       "      <th>102464</th>\n",
       "      <td>0.405646</td>\n",
       "      <td>jeffrey_t___hancock(authors)</td>\n",
       "    </tr>\n",
       "    <tr>\n",
       "      <th>99820</th>\n",
       "      <td>0.405646</td>\n",
       "      <td>jamie_e___guillory(authors)</td>\n",
       "    </tr>\n",
       "    <tr>\n",
       "      <th>219745</th>\n",
       "      <td>0.405646</td>\n",
       "      <td>bmj(abstract)</td>\n",
       "    </tr>\n",
       "    <tr>\n",
       "      <th>241991</th>\n",
       "      <td>0.405646</td>\n",
       "      <td>fowler(abstract)</td>\n",
       "    </tr>\n",
       "    <tr>\n",
       "      <th>224564</th>\n",
       "      <td>0.405646</td>\n",
       "      <td>christakis(abstract)</td>\n",
       "    </tr>\n",
       "    <tr>\n",
       "      <th>210176</th>\n",
       "      <td>0.405646</td>\n",
       "      <td>a2338(abstract)</td>\n",
       "    </tr>\n",
       "    <tr>\n",
       "      <th>308609</th>\n",
       "      <td>0.405646</td>\n",
       "      <td>fb(mail_host)</td>\n",
       "    </tr>\n",
       "    <tr>\n",
       "      <th>264302</th>\n",
       "      <td>0.285506</td>\n",
       "      <td>moods(abstract)</td>\n",
       "    </tr>\n",
       "    <tr>\n",
       "      <th>239785</th>\n",
       "      <td>0.268247</td>\n",
       "      <td>facebook(abstract)</td>\n",
       "    </tr>\n",
       "    <tr>\n",
       "      <th>311025</th>\n",
       "      <td>0.199349</td>\n",
       "      <td>psychological_and_cognitive_sciences(field)</td>\n",
       "    </tr>\n",
       "    <tr>\n",
       "      <th>6183</th>\n",
       "      <td>0.195624</td>\n",
       "      <td>contagion(title)</td>\n",
       "    </tr>\n",
       "    <tr>\n",
       "      <th>236820</th>\n",
       "      <td>0.184627</td>\n",
       "      <td>emotions(abstract)</td>\n",
       "    </tr>\n",
       "    <tr>\n",
       "      <th>227203</th>\n",
       "      <td>0.170373</td>\n",
       "      <td>contagion(abstract)</td>\n",
       "    </tr>\n",
       "    <tr>\n",
       "      <th>18093</th>\n",
       "      <td>0.167210</td>\n",
       "      <td>morbidity(title)</td>\n",
       "    </tr>\n",
       "  </tbody>\n",
       "</table>\n",
       "</div>"
      ],
      "text/plain": [
       "            coef                                         name\n",
       "32959   0.405646                 adam_d___i___kramer(authors)\n",
       "102464  0.405646                 jeffrey_t___hancock(authors)\n",
       "99820   0.405646                  jamie_e___guillory(authors)\n",
       "219745  0.405646                                bmj(abstract)\n",
       "241991  0.405646                             fowler(abstract)\n",
       "224564  0.405646                         christakis(abstract)\n",
       "210176  0.405646                              a2338(abstract)\n",
       "308609  0.405646                                fb(mail_host)\n",
       "264302  0.285506                              moods(abstract)\n",
       "239785  0.268247                           facebook(abstract)\n",
       "311025  0.199349  psychological_and_cognitive_sciences(field)\n",
       "6183    0.195624                             contagion(title)\n",
       "236820  0.184627                           emotions(abstract)\n",
       "227203  0.170373                          contagion(abstract)\n",
       "18093   0.167210                             morbidity(title)"
      ]
     },
     "execution_count": 14,
     "metadata": {},
     "output_type": "execute_result"
    }
   ],
   "source": [
    "top_k = 15\n",
    "feature_coef = pd.DataFrame({'name': indx[:len(coefs)], 'coef': coefs})\n",
    "print('top-{} positively correlated features'.format(top_k))\n",
    "feature_coef.sort_values(by='coef', ascending=False).head(top_k)"
   ]
  },
  {
   "cell_type": "code",
   "execution_count": 16,
   "metadata": {
    "collapsed": false
   },
   "outputs": [
    {
     "name": "stdout",
     "output_type": "stream",
     "text": [
      "top-15 negatively correlated features\n"
     ]
    },
    {
     "data": {
      "text/html": [
       "<div>\n",
       "<table border=\"1\" class=\"dataframe\">\n",
       "  <thead>\n",
       "    <tr style=\"text-align: right;\">\n",
       "      <th></th>\n",
       "      <th>coef</th>\n",
       "      <th>name</th>\n",
       "    </tr>\n",
       "  </thead>\n",
       "  <tbody>\n",
       "    <tr>\n",
       "      <th>281325</th>\n",
       "      <td>-0.073860</td>\n",
       "      <td>protein(abstract)</td>\n",
       "    </tr>\n",
       "    <tr>\n",
       "      <th>223294</th>\n",
       "      <td>-0.061963</td>\n",
       "      <td>cells(abstract)</td>\n",
       "    </tr>\n",
       "    <tr>\n",
       "      <th>223281</th>\n",
       "      <td>-0.059588</td>\n",
       "      <td>cell(abstract)</td>\n",
       "    </tr>\n",
       "    <tr>\n",
       "      <th>310988</th>\n",
       "      <td>-0.058271</td>\n",
       "      <td>biochemistry(field)</td>\n",
       "    </tr>\n",
       "    <tr>\n",
       "      <th>218859</th>\n",
       "      <td>-0.057216</td>\n",
       "      <td>binding(abstract)</td>\n",
       "    </tr>\n",
       "    <tr>\n",
       "      <th>281343</th>\n",
       "      <td>-0.050941</td>\n",
       "      <td>proteins(abstract)</td>\n",
       "    </tr>\n",
       "    <tr>\n",
       "      <th>23448</th>\n",
       "      <td>-0.048280</td>\n",
       "      <td>protein(title)</td>\n",
       "    </tr>\n",
       "    <tr>\n",
       "      <th>236674</th>\n",
       "      <td>-0.047098</td>\n",
       "      <td>em(abstract)</td>\n",
       "    </tr>\n",
       "    <tr>\n",
       "      <th>239368</th>\n",
       "      <td>-0.045342</td>\n",
       "      <td>expression(abstract)</td>\n",
       "    </tr>\n",
       "    <tr>\n",
       "      <th>234291</th>\n",
       "      <td>-0.042178</td>\n",
       "      <td>domain(abstract)</td>\n",
       "    </tr>\n",
       "    <tr>\n",
       "      <th>310991</th>\n",
       "      <td>-0.041651</td>\n",
       "      <td>cell_biology(field)</td>\n",
       "    </tr>\n",
       "    <tr>\n",
       "      <th>211218</th>\n",
       "      <td>-0.041623</td>\n",
       "      <td>activation(abstract)</td>\n",
       "    </tr>\n",
       "    <tr>\n",
       "      <th>311007</th>\n",
       "      <td>-0.041098</td>\n",
       "      <td>immunology(field)</td>\n",
       "    </tr>\n",
       "    <tr>\n",
       "      <th>310989</th>\n",
       "      <td>-0.038984</td>\n",
       "      <td>biophysics(field)</td>\n",
       "    </tr>\n",
       "    <tr>\n",
       "      <th>261199</th>\n",
       "      <td>-0.038670</td>\n",
       "      <td>membrane(abstract)</td>\n",
       "    </tr>\n",
       "  </tbody>\n",
       "</table>\n",
       "</div>"
      ],
      "text/plain": [
       "            coef                  name\n",
       "281325 -0.073860     protein(abstract)\n",
       "223294 -0.061963       cells(abstract)\n",
       "223281 -0.059588        cell(abstract)\n",
       "310988 -0.058271   biochemistry(field)\n",
       "218859 -0.057216     binding(abstract)\n",
       "281343 -0.050941    proteins(abstract)\n",
       "23448  -0.048280        protein(title)\n",
       "236674 -0.047098          em(abstract)\n",
       "239368 -0.045342  expression(abstract)\n",
       "234291 -0.042178      domain(abstract)\n",
       "310991 -0.041651   cell_biology(field)\n",
       "211218 -0.041623  activation(abstract)\n",
       "311007 -0.041098     immunology(field)\n",
       "310989 -0.038984     biophysics(field)\n",
       "261199 -0.038670    membrane(abstract)"
      ]
     },
     "execution_count": 16,
     "metadata": {},
     "output_type": "execute_result"
    }
   ],
   "source": [
    "print('top-{} negatively correlated features'.format(top_k))\n",
    "feature_coef.sort_values(by='coef', ascending=True).head(top_k)"
   ]
  },
  {
   "cell_type": "markdown",
   "metadata": {},
   "source": [
    "## metric value vs item number\n",
    "\n",
    "Comment: many metrics follow power-law distribution"
   ]
  },
  {
   "cell_type": "code",
   "execution_count": 17,
   "metadata": {
    "collapsed": false
   },
   "outputs": [
    {
     "data": {
      "image/png": "[encoded data removed]",
      "text/plain": [
       "<matplotlib.figure.Figure at 0x7fc9269c0e48>"
      ]
     },
     "metadata": {},
     "output_type": "display_data"
    }
   ],
   "source": [
    "# for each metric, \n",
    "# plot the value vs frequency in log-log scale\n",
    "# most of them seem to be power-law\n",
    "fig = plt.figure(figsize=(10, 10))\n",
    "\n",
    "for i, f in enumerate(metric_fields):\n",
    "    fig.add_subplot(3, 3, i+1)\n",
    "    freq = train[f].value_counts()\n",
    "    ax = freq.plot(logx=True, logy=True, title=f)\n"
   ]
  },
  {
   "cell_type": "markdown",
   "metadata": {},
   "source": [
    "## predicting metric number\n",
    "\n",
    "[Train/test score](http://scikit-learn.org/stable/modules/generated/sklearn.ensemble.RandomForestRegressor.html#sklearn.ensemble.RandomForestRegressor.score) should be [-1, 1]. The higher the better. \n",
    "\n",
    "Comment:\n",
    "\n",
    "- Lasso performs badly\n",
    "- RandomForrest model performs better: the more estimators, the better score\n",
    "- RandomForrest suffers from overfitting"
   ]
  },
  {
   "cell_type": "code",
   "execution_count": 18,
   "metadata": {
    "collapsed": true
   },
   "outputs": [],
   "source": [
    "from sklearn.linear_model import Lasso\n",
    "from sklearn.ensemble import RandomForestRegressor\n",
    "from sklearn.preprocessing import MinMaxScaler"
   ]
  },
  {
   "cell_type": "code",
   "execution_count": 19,
   "metadata": {
    "collapsed": false,
    "scrolled": true
   },
   "outputs": [
    {
     "name": "stderr",
     "output_type": "stream",
     "text": [
      "/home/cloud-user/code/social-media-exposure/venv/lib/python3.5/site-packages/sklearn/utils/validation.py:429: DataConversionWarning: Data with input dtype int64 was converted to float64 by MinMaxScaler.\n",
      "  warnings.warn(msg, _DataConversionWarning)\n"
     ]
    },
    {
     "name": "stdout",
     "output_type": "stream",
     "text": [
      "Lasso(alpha=0.1, copy_X=True, fit_intercept=True, max_iter=1000,\n",
      "   normalize=False, positive=False, precompute=False, random_state=None,\n",
      "   selection='cyclic', tol=0.0001, warm_start=False)\n",
      "train score: 0.0\n",
      "test score: -2.1051533503513298e-05\n",
      "RandomForestRegressor(bootstrap=True, criterion='mse', max_depth=None,\n",
      "           max_features='auto', max_leaf_nodes=None,\n",
      "           min_impurity_split=1e-07, min_samples_leaf=1,\n",
      "           min_samples_split=2, min_weight_fraction_leaf=0.0,\n",
      "           n_estimators=4, n_jobs=-1, oob_score=False, random_state=None,\n",
      "           verbose=0, warm_start=False)\n",
      "train score: 0.8013039528225415\n",
      "test score: 0.01986774121706436\n",
      "RandomForestRegressor(bootstrap=True, criterion='mse', max_depth=None,\n",
      "           max_features='auto', max_leaf_nodes=None,\n",
      "           min_impurity_split=1e-07, min_samples_leaf=1,\n",
      "           min_samples_split=2, min_weight_fraction_leaf=0.0,\n",
      "           n_estimators=8, n_jobs=-1, oob_score=False, random_state=None,\n",
      "           verbose=0, warm_start=False)\n",
      "train score: 0.8469226564984785\n",
      "test score: 0.04662036354998955\n",
      "RandomForestRegressor(bootstrap=True, criterion='mse', max_depth=None,\n",
      "           max_features='auto', max_leaf_nodes=None,\n",
      "           min_impurity_split=1e-07, min_samples_leaf=1,\n",
      "           min_samples_split=2, min_weight_fraction_leaf=0.0,\n",
      "           n_estimators=16, n_jobs=-1, oob_score=False, random_state=None,\n",
      "           verbose=0, warm_start=False)\n",
      "train score: 0.8491714662894795\n",
      "test score: 0.09855079361513597\n",
      "RandomForestRegressor(bootstrap=True, criterion='mse', max_depth=None,\n",
      "           max_features='auto', max_leaf_nodes=None,\n",
      "           min_impurity_split=1e-07, min_samples_leaf=1,\n",
      "           min_samples_split=2, min_weight_fraction_leaf=0.0,\n",
      "           n_estimators=32, n_jobs=-1, oob_score=False, random_state=None,\n",
      "           verbose=0, warm_start=False)\n",
      "train score: 0.8615605887490284\n",
      "test score: 0.10929376991113403\n"
     ]
    }
   ],
   "source": [
    "target_variable = 'altimetric_score'\n",
    "\n",
    "scaler = MinMaxScaler()\n",
    "train_Y = scaler.fit_transform(train[target_variable].values[:, None])[:, 0]\n",
    "test_Y = scaler.transform(test[target_variable].values[:, None])[:, 0]\n",
    "\n",
    "models = [Lasso(alpha=0.1),\n",
    "          RandomForestRegressor(n_estimators=4, n_jobs=-1),\n",
    "          RandomForestRegressor(n_estimators=8, n_jobs=-1),\n",
    "          RandomForestRegressor(n_estimators=16, n_jobs=-1),\n",
    "          RandomForestRegressor(n_estimators=32, n_jobs=-1)]\n",
    "for clf in models:\n",
    "    clf.fit(train_X, train_Y)\n",
    "    print(clf)\n",
    "    print('train score: {}'.format(clf.score(train_X, train_Y)))\n",
    "    print('test score: {}'.format(clf.score(test_X, test_Y)))"
   ]
  }
 ],
 "metadata": {
  "kernelspec": {
   "display_name": "Python 3",
   "language": "python",
   "name": "python3"
  },
  "language_info": {
   "codemirror_mode": {
    "name": "ipython",
    "version": 3
   },
   "file_extension": ".py",
   "mimetype": "text/x-python",
   "name": "python",
   "nbconvert_exporter": "python",
   "pygments_lexer": "ipython3",
   "version": "3.5.2"
  }
 },
 "nbformat": 4,
 "nbformat_minor": 0
}
