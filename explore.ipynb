{
 "cells": [
  {
   "cell_type": "code",
   "execution_count": 1,
   "metadata": {
    "collapsed": false
   },
   "outputs": [],
   "source": [
    "%matplotlib inline\n",
    "import pandas as pd\n",
    "import numpy as np\n",
    "import re\n",
    "from matplotlib import pyplot as plt\n",
    "from tqdm import tqdm\n",
    "from numpy import corrcoef\n"
   ]
  },
  {
   "cell_type": "code",
   "execution_count": 31,
   "metadata": {
    "collapsed": false
   },
   "outputs": [],
   "source": [
    "mm_df = pd.read_csv('data/paperid_media_metrics.tsv', sep='\\t')\n",
    "cn_df = pd.read_csv('data/paperid_num_citations.txt', sep='\\t', names=['id', 'citation'])\n",
    "meta_df = pd.read_csv('data/paperid_metadata.tsv', sep='\\t', names=['id', 'title', 'authors', 'mail_host', 'field', 'abstract'])"
   ]
  },
  {
   "cell_type": "code",
   "execution_count": 32,
   "metadata": {
    "collapsed": false,
    "scrolled": true
   },
   "outputs": [
    {
     "name": "stdout",
     "output_type": "stream",
     "text": [
      "(35055, 10)\n"
     ]
    }
   ],
   "source": [
    "# drop non-numerical rows\n",
    "mm_df['mendeley'] = pd.to_numeric(mm_df['mendeley'], errors='coerce')\n",
    "mm_df.dropna(axis=0, how='any', inplace=True)\n",
    "\n",
    "cn_df['citation'] = pd.to_numeric(cn_df['citation'], errors='coerce')\n",
    "cn_df.dropna(axis=0, how='any', inplace=True)\n",
    "\n",
    "# merge the two tables\n",
    "mm_df = pd.merge(mm_df, cn_df, left_on='paperid', right_on='id')\n",
    "mm_df.drop('id', axis=1, inplace=True)\n",
    "metric_fields = list(sorted(set(mm_df.columns) - {'paperid'}))\n",
    "print(mm_df.shape)\n"
   ]
  },
  {
   "cell_type": "markdown",
   "metadata": {},
   "source": [
    "## Correlattion between altimtric score and other metrics\n",
    "\n",
    "Interesting fact: \n",
    "\n",
    "citation number is negatively correlated with the altimetric score"
   ]
  },
  {
   "cell_type": "code",
   "execution_count": 15,
   "metadata": {
    "collapsed": false
   },
   "outputs": [
    {
     "data": {
      "text/plain": [
       "<matplotlib.axes._subplots.AxesSubplot at 0x7fd23d61fb38>"
      ]
     },
     "execution_count": 15,
     "metadata": {},
     "output_type": "execute_result"
    },
    {
     "data": {
      "image/png": "[encoded data removed]",
      "text/plain": [
       "<matplotlib.figure.Figure at 0x7fd23d61f908>"
      ]
     },
     "metadata": {},
     "output_type": "display_data"
    }
   ],
   "source": [
    "data = mm_df[metric_fields].as_matrix().T\n",
    "corrmat = pd.DataFrame(corrcoef(data), columns=metric_fields, index=metric_fields)\n",
    "corrmat['altimetric_score'].sort_values(ascending=False).plot(kind='bar', title='Correlation coefficient to altimetric score')\n",
    "\n"
   ]
  },
  {
   "cell_type": "code",
   "execution_count": 34,
   "metadata": {
    "collapsed": false,
    "scrolled": true
   },
   "outputs": [
    {
     "data": {
      "text/html": [
       "<div>\n",
       "<table border=\"1\" class=\"dataframe\">\n",
       "  <thead>\n",
       "    <tr style=\"text-align: right;\">\n",
       "      <th></th>\n",
       "      <th>id</th>\n",
       "      <th>title</th>\n",
       "      <th>authors</th>\n",
       "      <th>mail_host</th>\n",
       "      <th>field</th>\n",
       "      <th>abstract</th>\n",
       "      <th>altimetric_score</th>\n",
       "      <th>news</th>\n",
       "      <th>reddit</th>\n",
       "      <th>twitter</th>\n",
       "      <th>mendeley</th>\n",
       "      <th>blog</th>\n",
       "      <th>facebook</th>\n",
       "      <th>google</th>\n",
       "      <th>citation</th>\n",
       "    </tr>\n",
       "  </thead>\n",
       "  <tbody>\n",
       "    <tr>\n",
       "      <th>0</th>\n",
       "      <td>113_29_8284</td>\n",
       "      <td>Vagus nerve stimulation inhibits cytokine prod...</td>\n",
       "      <td>Frieda_A___Koopman Sangeeta_S___Chavan Sanda_M...</td>\n",
       "      <td>amc.uva.nl</td>\n",
       "      <td>Immunology_and_Inflammation</td>\n",
       "      <td>Rheumatoid arthritis (RA) is a heterogeneous, ...</td>\n",
       "      <td>417</td>\n",
       "      <td>49</td>\n",
       "      <td>1</td>\n",
       "      <td>54</td>\n",
       "      <td>53.0</td>\n",
       "      <td>3</td>\n",
       "      <td>14</td>\n",
       "      <td>3</td>\n",
       "      <td>4.0</td>\n",
       "    </tr>\n",
       "    <tr>\n",
       "      <th>1</th>\n",
       "      <td>112_40_12332</td>\n",
       "      <td>Fatigue-free, superstretchable, transparent, a...</td>\n",
       "      <td>Chuan_Fei_Guo Qihan_Liu Guohui_Wang Yecheng_Wa...</td>\n",
       "      <td></td>\n",
       "      <td>Physics</td>\n",
       "      <td>Next-generation flexible electronics require h...</td>\n",
       "      <td>116</td>\n",
       "      <td>14</td>\n",
       "      <td>0</td>\n",
       "      <td>2</td>\n",
       "      <td>35.0</td>\n",
       "      <td>3</td>\n",
       "      <td>0</td>\n",
       "      <td>0</td>\n",
       "      <td>6.0</td>\n",
       "    </tr>\n",
       "  </tbody>\n",
       "</table>\n",
       "</div>"
      ],
      "text/plain": [
       "             id                                              title  \\\n",
       "0   113_29_8284  Vagus nerve stimulation inhibits cytokine prod...   \n",
       "1  112_40_12332  Fatigue-free, superstretchable, transparent, a...   \n",
       "\n",
       "                                             authors   mail_host  \\\n",
       "0  Frieda_A___Koopman Sangeeta_S___Chavan Sanda_M...  amc.uva.nl   \n",
       "1  Chuan_Fei_Guo Qihan_Liu Guohui_Wang Yecheng_Wa...               \n",
       "\n",
       "                         field  \\\n",
       "0  Immunology_and_Inflammation   \n",
       "1                      Physics   \n",
       "\n",
       "                                            abstract  altimetric_score  news  \\\n",
       "0  Rheumatoid arthritis (RA) is a heterogeneous, ...               417    49   \n",
       "1  Next-generation flexible electronics require h...               116    14   \n",
       "\n",
       "   reddit  twitter  mendeley  blog  facebook  google  citation  \n",
       "0       1       54      53.0     3        14       3       4.0  \n",
       "1       0        2      35.0     3         0       0       6.0  "
      ]
     },
     "execution_count": 34,
     "metadata": {},
     "output_type": "execute_result"
    }
   ],
   "source": [
    "# some preprocessing for regression model's input\n",
    "\n",
    "from sklearn.feature_extraction.text import TfidfVectorizer\n",
    "from sklearn.preprocessing import OneHotEncoder, LabelEncoder\n",
    "\n",
    "meta_df['authors'] = meta_df['authors'].map(lambda s: ' '.join(s.split(';')))\n",
    "\n",
    "meta_df = pd.merge(meta_df, mm_df, left_on='id', right_on='paperid')\n",
    "meta_df.drop('paperid', axis=1, inplace=True)\n",
    "meta_df.fillna(value='', axis=0, inplace=True)\n",
    "meta_df['field'] = meta_df['field'].map(lambda s: s.replace(',', '_'))\n",
    "meta_df['authors'] = meta_df['authors'].map(lambda s: s.replace('.', '__'))\n",
    "\n",
    "if True:  # remove papers without any news citation\n",
    "    mm_df = mm_df[mm_df['news'] > 0]\n",
    "    meta_df = meta_df[meta_df['news']  > 0]\n",
    "    \n",
    "meta_df.head(2)"
   ]
  },
  {
   "cell_type": "code",
   "execution_count": 37,
   "metadata": {
    "collapsed": false
   },
   "outputs": [],
   "source": [
    "train_cnt = int(meta_df.shape[0] * 7/8)"
   ]
  },
  {
   "cell_type": "code",
   "execution_count": 38,
   "metadata": {
    "collapsed": false
   },
   "outputs": [],
   "source": [
    "# split train/test data\n",
    "train = meta_df.iloc[:train_cnt]\n",
    "test = meta_df.iloc[train_cnt:]"
   ]
  },
  {
   "cell_type": "code",
   "execution_count": 39,
   "metadata": {
    "collapsed": false
   },
   "outputs": [
    {
     "name": "stderr",
     "output_type": "stream",
     "text": [
      "100%|██████████| 5/5 [00:01<00:00,  2.53it/s]\n"
     ]
    }
   ],
   "source": [
    "# convert text to sparse matrices\n",
    "col2tfidf = {}\n",
    "text_columns = ['title', 'authors', 'abstract', 'mail_host', 'field']\n",
    "train_mats = []\n",
    "test_mats = []\n",
    "for col in tqdm(text_columns):\n",
    "    if col in {'mail_host', 'field'}:\n",
    "        tfidf = TfidfVectorizer(use_idf=False, tokenizer=None)\n",
    "    else:\n",
    "        tfidf = TfidfVectorizer(stop_words='english')\n",
    "    train_mats.append(tfidf.fit_transform(train[col].values))\n",
    "    test_mats.append(tfidf.transform(test[col].values))\n",
    "    col2tfidf[col] = tfidf"
   ]
  },
  {
   "cell_type": "code",
   "execution_count": 40,
   "metadata": {
    "collapsed": false
   },
   "outputs": [],
   "source": [
    "# concatenate different feature matrices\n",
    "from scipy.sparse import hstack, vstack\n",
    "train_X = hstack(train_mats)\n",
    "test_X = hstack(test_mats)"
   ]
  },
  {
   "cell_type": "markdown",
   "metadata": {},
   "source": [
    "## Correlation between target variable and different features\n",
    "\n",
    "The higher the correlation coefficient, the more relevant the feature is to the target variable\n",
    "\n",
    "Modify the value of `target_variable` to other variables if necessary"
   ]
  },
  {
   "cell_type": "code",
   "execution_count": 34,
   "metadata": {
    "collapsed": false
   },
   "outputs": [
    {
     "name": "stderr",
     "output_type": "stream",
     "text": [
      "100%|██████████| 5/5 [00:11<00:00,  1.76s/it]\n"
     ]
    }
   ],
   "source": [
    "from scipy.stats import pearsonr\n",
    "from joblib import Parallel, delayed\n",
    "\n",
    "min_df = 50\n",
    "target_variable = 'news'  # modify this variable if you want to check other target variables\n",
    "\n",
    "col2tf = {}\n",
    "text_columns = ['title', 'authors', 'abstract', 'mail_host', 'field']\n",
    "mats = []\n",
    "for col in tqdm(text_columns):\n",
    "    if col in {'mail_host', 'field'}:\n",
    "        tf = TfidfVectorizer(use_idf=False, tokenizer=None, min_df=min_df)\n",
    "    else:\n",
    "        tf = TfidfVectorizer(stop_words='english', use_idf=False, min_df=min_df)  # idf is disabled\n",
    "    mats.append(tf.fit_transform(meta_df[col].values))\n",
    "    col2tf[col] = tf\n",
    "    \n"
   ]
  },
  {
   "cell_type": "code",
   "execution_count": 36,
   "metadata": {
    "collapsed": false
   },
   "outputs": [],
   "source": [
    "# feature_X = train_mats[1]\n",
    "feature_X = hstack(mats).tocsc()\n",
    "Y = meta_df[target_variable].values\n",
    "coefs = Parallel(n_jobs=-1)(delayed(pearsonr)(feature_X[:, i].toarray()[:, 0], Y)\n",
    "                            for i in range(feature_X.shape[1]))\n",
    "coefs = np.array(coefs)[:, 0]"
   ]
  },
  {
   "cell_type": "code",
   "execution_count": 37,
   "metadata": {
    "collapsed": false,
    "scrolled": true
   },
   "outputs": [],
   "source": [
    "indx = []\n",
    "# for col in text_columns:\n",
    "for col in text_columns:\n",
    "    t = col2tf[col] \n",
    "    inds = list(t.vocabulary_.values())\n",
    "    id2word = {v: k for k, v in t.vocabulary_.items()}\n",
    "    indx += ['{}({})'.format(id2word[i], col) for i in range(np.min(inds), np.max(inds)+1)]    "
   ]
  },
  {
   "cell_type": "code",
   "execution_count": 38,
   "metadata": {
    "collapsed": false
   },
   "outputs": [
    {
     "name": "stdout",
     "output_type": "stream",
     "text": [
      "8565\n",
      "8565\n"
     ]
    }
   ],
   "source": [
    "print(len(indx))\n",
    "print(len(coefs))"
   ]
  },
  {
   "cell_type": "code",
   "execution_count": 53,
   "metadata": {
    "collapsed": false
   },
   "outputs": [
    {
     "name": "stdout",
     "output_type": "stream",
     "text": [
      "top-15 positively correlated features\n",
      "\\begin{tabular}{lr}\n",
      "\\toprule\n",
      "{} &      coef \\\\\n",
      "name                                              &           \\\\\n",
      "\\midrule\n",
      "psychological\\_and\\_cognitive\\_sciences(field)       &  0.154290 \\\\\n",
      "health(abstract)                                  &  0.112338 \\\\\n",
      "people(abstract)                                  &  0.095245 \\\\\n",
      "united(abstract)                                  &  0.080595 \\\\\n",
      "earth\\_\\_atmospheric\\_\\_and\\_planetary\\_sciences(field) &  0.080050 \\\\\n",
      "sustainability\\_science(field)                     &  0.078643 \\\\\n",
      "decades(abstract)                                 &  0.077481 \\\\\n",
      "2012(abstract)                                    &  0.077478 \\\\\n",
      "climate(abstract)                                 &  0.074896 \\\\\n",
      "mortality(abstract)                               &  0.074011 \\\\\n",
      "century(abstract)                                 &  0.073789 \\\\\n",
      "impacts(abstract)                                 &  0.073428 \\\\\n",
      "emotional(abstract)                               &  0.073039 \\\\\n",
      "anthropology(field)                               &  0.073005 \\\\\n",
      "decline(abstract)                                 &  0.072751 \\\\\n",
      "\\bottomrule\n",
      "\\end{tabular}\n",
      "\n"
     ]
    }
   ],
   "source": [
    "top_k = 15\n",
    "feature_coef = pd.DataFrame({'name': indx[:len(coefs)], 'coef': coefs})\n",
    "print('top-{} positively correlated features'.format(top_k))\n",
    "top_features = feature_coef.sort_values(by='coef', ascending=False).head(top_k)\n",
    "top_features.set_index('name', inplace=True)\n",
    "print(top_features.to_latex())"
   ]
  },
  {
   "cell_type": "code",
   "execution_count": 28,
   "metadata": {
    "collapsed": false
   },
   "outputs": [
    {
     "data": {
      "text/plain": [
       "298317             theropoda(abstract)\n",
       "246213      hadrosauriformes(abstract)\n",
       "272043          ornithischia(abstract)\n",
       "288832       sauropodomorpha(abstract)\n",
       "223482          ceratopsidae(abstract)\n",
       "285054              reigning(abstract)\n",
       "28643                      tens(title)\n",
       "102464    jeffrey_t___hancock(authors)\n",
       "99820      jamie_e___guillory(authors)\n",
       "32959     adam_d___i___kramer(authors)\n",
       "210176                 a2338(abstract)\n",
       "241991                fowler(abstract)\n",
       "224564            christakis(abstract)\n",
       "219745                   bmj(abstract)\n",
       "308617                   fb(mail_host)\n",
       "Name: name, dtype: object"
      ]
     },
     "execution_count": 28,
     "metadata": {},
     "output_type": "execute_result"
    }
   ],
   "source": [
    "feature_coef.sort_values(by='coef', ascending=False).head(top_k)['name']"
   ]
  },
  {
   "cell_type": "code",
   "execution_count": 33,
   "metadata": {
    "collapsed": false
   },
   "outputs": [
    {
     "name": "stdout",
     "output_type": "stream",
     "text": [
      "top-15 negatively correlated features\n"
     ]
    },
    {
     "data": {
      "text/html": [
       "<div>\n",
       "<table border=\"1\" class=\"dataframe\">\n",
       "  <thead>\n",
       "    <tr style=\"text-align: right;\">\n",
       "      <th></th>\n",
       "      <th>coef</th>\n",
       "      <th>name</th>\n",
       "    </tr>\n",
       "  </thead>\n",
       "  <tbody>\n",
       "    <tr>\n",
       "      <th>281325</th>\n",
       "      <td>-0.066890</td>\n",
       "      <td>protein(abstract)</td>\n",
       "    </tr>\n",
       "    <tr>\n",
       "      <th>223294</th>\n",
       "      <td>-0.055382</td>\n",
       "      <td>cells(abstract)</td>\n",
       "    </tr>\n",
       "    <tr>\n",
       "      <th>223281</th>\n",
       "      <td>-0.052271</td>\n",
       "      <td>cell(abstract)</td>\n",
       "    </tr>\n",
       "    <tr>\n",
       "      <th>311016</th>\n",
       "      <td>-0.052199</td>\n",
       "      <td>biochemistry(field)</td>\n",
       "    </tr>\n",
       "    <tr>\n",
       "      <th>218859</th>\n",
       "      <td>-0.051087</td>\n",
       "      <td>binding(abstract)</td>\n",
       "    </tr>\n",
       "    <tr>\n",
       "      <th>236674</th>\n",
       "      <td>-0.047819</td>\n",
       "      <td>em(abstract)</td>\n",
       "    </tr>\n",
       "    <tr>\n",
       "      <th>281343</th>\n",
       "      <td>-0.046148</td>\n",
       "      <td>proteins(abstract)</td>\n",
       "    </tr>\n",
       "    <tr>\n",
       "      <th>23448</th>\n",
       "      <td>-0.044305</td>\n",
       "      <td>protein(title)</td>\n",
       "    </tr>\n",
       "    <tr>\n",
       "      <th>239368</th>\n",
       "      <td>-0.043854</td>\n",
       "      <td>expression(abstract)</td>\n",
       "    </tr>\n",
       "    <tr>\n",
       "      <th>211218</th>\n",
       "      <td>-0.038930</td>\n",
       "      <td>activation(abstract)</td>\n",
       "    </tr>\n",
       "    <tr>\n",
       "      <th>311035</th>\n",
       "      <td>-0.038665</td>\n",
       "      <td>immunology(field)</td>\n",
       "    </tr>\n",
       "    <tr>\n",
       "      <th>234291</th>\n",
       "      <td>-0.037419</td>\n",
       "      <td>domain(abstract)</td>\n",
       "    </tr>\n",
       "    <tr>\n",
       "      <th>311017</th>\n",
       "      <td>-0.036630</td>\n",
       "      <td>biophysics(field)</td>\n",
       "    </tr>\n",
       "    <tr>\n",
       "      <th>311019</th>\n",
       "      <td>-0.036059</td>\n",
       "      <td>cell_biology(field)</td>\n",
       "    </tr>\n",
       "    <tr>\n",
       "      <th>285652</th>\n",
       "      <td>-0.035839</td>\n",
       "      <td>required(abstract)</td>\n",
       "    </tr>\n",
       "  </tbody>\n",
       "</table>\n",
       "</div>"
      ],
      "text/plain": [
       "            coef                  name\n",
       "281325 -0.066890     protein(abstract)\n",
       "223294 -0.055382       cells(abstract)\n",
       "223281 -0.052271        cell(abstract)\n",
       "311016 -0.052199   biochemistry(field)\n",
       "218859 -0.051087     binding(abstract)\n",
       "236674 -0.047819          em(abstract)\n",
       "281343 -0.046148    proteins(abstract)\n",
       "23448  -0.044305        protein(title)\n",
       "239368 -0.043854  expression(abstract)\n",
       "211218 -0.038930  activation(abstract)\n",
       "311035 -0.038665     immunology(field)\n",
       "234291 -0.037419      domain(abstract)\n",
       "311017 -0.036630     biophysics(field)\n",
       "311019 -0.036059   cell_biology(field)\n",
       "285652 -0.035839    required(abstract)"
      ]
     },
     "execution_count": 33,
     "metadata": {},
     "output_type": "execute_result"
    }
   ],
   "source": [
    "print('top-{} negatively correlated features'.format(top_k))\n",
    "feature_coef.sort_values(by='coef', ascending=True).head(top_k)"
   ]
  },
  {
   "cell_type": "markdown",
   "metadata": {},
   "source": [
    "## metric value vs item number\n",
    "\n",
    "Comment: many metrics follow power-law distribution"
   ]
  },
  {
   "cell_type": "code",
   "execution_count": 45,
   "metadata": {
    "collapsed": false
   },
   "outputs": [
    {
     "data": {
      "image/png": "[encoded data removed]",
      "text/plain": [
       "<matplotlib.figure.Figure at 0x7fd23c6b0f60>"
      ]
     },
     "metadata": {},
     "output_type": "display_data"
    }
   ],
   "source": [
    "# for each metric, \n",
    "# plot the value vs frequency in log-log scale\n",
    "# most of them seem to be power-law\n",
    "fig = plt.figure(figsize=(10, 10))\n",
    "for i, f in enumerate(metric_fields):\n",
    "    fig.add_subplot(3, 3, i+1)\n",
    "    freq = train[f].value_counts()\n",
    "    ax = freq.plot(logx=True, logy=True, title=f)\n"
   ]
  },
  {
   "cell_type": "markdown",
   "metadata": {},
   "source": [
    "## predicting metric number\n",
    "\n",
    "[Train/test score](http://scikit-learn.org/stable/modules/generated/sklearn.ensemble.RandomForestRegressor.html#sklearn.ensemble.RandomForestRegressor.score) should be [-1, 1]. The higher the better. \n",
    "\n",
    "Comment:\n",
    "\n",
    "- Lasso performs badly\n",
    "- RandomForrest model performs better: the more estimators, the better score\n",
    "- RandomForrest suffers from overfitting"
   ]
  },
  {
   "cell_type": "code",
   "execution_count": 41,
   "metadata": {
    "collapsed": true
   },
   "outputs": [],
   "source": [
    "from sklearn.linear_model import Lasso, LinearRegression, Ridge\n",
    "from sklearn.ensemble import RandomForestRegressor\n",
    "from sklearn.preprocessing import MinMaxScaler"
   ]
  },
  {
   "cell_type": "code",
   "execution_count": 42,
   "metadata": {
    "collapsed": false,
    "scrolled": true
   },
   "outputs": [
    {
     "name": "stderr",
     "output_type": "stream",
     "text": [
      "/home/cloud-user/code/social-media-exposure/venv/lib/python3.5/site-packages/sklearn/utils/validation.py:429: DataConversionWarning: Data with input dtype int64 was converted to float64 by MinMaxScaler.\n",
      "  warnings.warn(msg, _DataConversionWarning)\n"
     ]
    },
    {
     "name": "stdout",
     "output_type": "stream",
     "text": [
      "Lasso(alpha=0.1, copy_X=True, fit_intercept=True, max_iter=1000,\n",
      "   normalize=False, positive=False, precompute=False, random_state=None,\n",
      "   selection='cyclic', tol=0.0001, warm_start=False)\n",
      "Lasso(alpha=0.5, copy_X=True, fit_intercept=True, max_iter=1000,\n",
      "   normalize=False, positive=False, precompute=False, random_state=None,\n",
      "   selection='cyclic', tol=0.0001, warm_start=False)\n",
      "LinearRegression(copy_X=True, fit_intercept=True, n_jobs=1, normalize=False)\n",
      "Ridge(alpha=0.1, copy_X=True, fit_intercept=True, max_iter=None,\n",
      "   normalize=False, random_state=None, solver='auto', tol=0.001)\n",
      "Ridge(alpha=0.5, copy_X=True, fit_intercept=True, max_iter=None,\n",
      "   normalize=False, random_state=None, solver='auto', tol=0.001)\n",
      "RandomForestRegressor(bootstrap=True, criterion='mse', max_depth=None,\n",
      "           max_features='auto', max_leaf_nodes=None,\n",
      "           min_impurity_split=1e-07, min_samples_leaf=1,\n",
      "           min_samples_split=2, min_weight_fraction_leaf=0.0,\n",
      "           n_estimators=8, n_jobs=-1, oob_score=False, random_state=None,\n",
      "           verbose=0, warm_start=False)\n",
      "RandomForestRegressor(bootstrap=True, criterion='mse', max_depth=None,\n",
      "           max_features='auto', max_leaf_nodes=None,\n",
      "           min_impurity_split=1e-07, min_samples_leaf=1,\n",
      "           min_samples_split=2, min_weight_fraction_leaf=0.0,\n",
      "           n_estimators=16, n_jobs=-1, oob_score=False, random_state=None,\n",
      "           verbose=0, warm_start=False)\n",
      "[(Lasso(alpha=0.1, copy_X=True, fit_intercept=True, max_iter=1000,\n",
      "   normalize=False, positive=False, precompute=False, random_state=None,\n",
      "   selection='cyclic', tol=0.0001, warm_start=False), 0.0, -0.00012587051157275653), (Lasso(alpha=0.5, copy_X=True, fit_intercept=True, max_iter=1000,\n",
      "   normalize=False, positive=False, precompute=False, random_state=None,\n",
      "   selection='cyclic', tol=0.0001, warm_start=False), 0.0, -0.00012587051157275653), (LinearRegression(copy_X=True, fit_intercept=True, n_jobs=1, normalize=False), 0.99999999999922828, -0.16215120854411103), (Ridge(alpha=0.1, copy_X=True, fit_intercept=True, max_iter=None,\n",
      "   normalize=False, random_state=None, solver='auto', tol=0.001), 0.99868809058702135, -0.14876818733546582), (Ridge(alpha=0.5, copy_X=True, fit_intercept=True, max_iter=None,\n",
      "   normalize=False, random_state=None, solver='auto', tol=0.001), 0.97647463321257533, -0.10735259401806641), (RandomForestRegressor(bootstrap=True, criterion='mse', max_depth=None,\n",
      "           max_features='auto', max_leaf_nodes=None,\n",
      "           min_impurity_split=1e-07, min_samples_leaf=1,\n",
      "           min_samples_split=2, min_weight_fraction_leaf=0.0,\n",
      "           n_estimators=8, n_jobs=-1, oob_score=False, random_state=None,\n",
      "           verbose=0, warm_start=False), 0.83820622326431637, -0.087698233481122267), (RandomForestRegressor(bootstrap=True, criterion='mse', max_depth=None,\n",
      "           max_features='auto', max_leaf_nodes=None,\n",
      "           min_impurity_split=1e-07, min_samples_leaf=1,\n",
      "           min_samples_split=2, min_weight_fraction_leaf=0.0,\n",
      "           n_estimators=16, n_jobs=-1, oob_score=False, random_state=None,\n",
      "           verbose=0, warm_start=False), 0.83375463838458108, -0.082621416949906434)]\n"
     ]
    }
   ],
   "source": [
    "target_variable = 'news'\n",
    "\n",
    "scaler = MinMaxScaler()\n",
    "train_Y = scaler.fit_transform(train[target_variable].values[:, None])[:, 0]\n",
    "test_Y = scaler.transform(test[target_variable].values[:, None])[:, 0]\n",
    "\n",
    "models = [Lasso(alpha=0.1),\n",
    "          Lasso(alpha=0.5),\n",
    "          LinearRegression(),\n",
    "          Ridge(alpha=0.1),\n",
    "          Ridge(alpha=0.5),\n",
    "          # RandomForestRegressor(n_estimators=4, n_jobs=-1),\n",
    "          RandomForestRegressor(n_estimators=8, n_jobs=-1),\n",
    "          RandomForestRegressor(n_estimators=16, n_jobs=-1)]\n",
    "          # RandomForestRegressor(n_estimators=32, n_jobs=-1)]\n",
    "rows = []\n",
    "for clf in models:\n",
    "    clf.fit(train_X, train_Y)\n",
    "    print(clf)\n",
    "    train_score = clf.score(train_X, train_Y)\n",
    "    test_score = clf.score(test_X, test_Y)\n",
    "    rows.append((clf, train_score, test_score))\n",
    "print(rows)    "
   ]
  },
  {
   "cell_type": "code",
   "execution_count": 43,
   "metadata": {
    "collapsed": false
   },
   "outputs": [],
   "source": [
    "df = pd.DataFrame(rows, columns=['Model', 'Train score', 'Test score'])"
   ]
  },
  {
   "cell_type": "code",
   "execution_count": 44,
   "metadata": {
    "collapsed": false
   },
   "outputs": [
    {
     "name": "stdout",
     "output_type": "stream",
     "text": [
      "\\begin{tabular}{llrr}\n",
      "\\toprule\n",
      "{} &                                              Model &  Train score &  Test score \\\\\n",
      "\\midrule\n",
      "0 &  Lasso(alpha=0.1, copy\\_X=True, fit\\_intercept=Tr... &     0.000000 &   -0.000126 \\\\\n",
      "1 &  Lasso(alpha=0.5, copy\\_X=True, fit\\_intercept=Tr... &     0.000000 &   -0.000126 \\\\\n",
      "2 &  LinearRegression(copy\\_X=True, fit\\_intercept=Tr... &     1.000000 &   -0.162151 \\\\\n",
      "3 &  Ridge(alpha=0.1, copy\\_X=True, fit\\_intercept=Tr... &     0.998688 &   -0.148768 \\\\\n",
      "4 &  Ridge(alpha=0.5, copy\\_X=True, fit\\_intercept=Tr... &     0.976475 &   -0.107353 \\\\\n",
      "5 &  (DecisionTreeRegressor(criterion='mse', max\\_de... &     0.838206 &   -0.087698 \\\\\n",
      "6 &  (DecisionTreeRegressor(criterion='mse', max\\_de... &     0.833755 &   -0.082621 \\\\\n",
      "\\bottomrule\n",
      "\\end{tabular}\n",
      "\n"
     ]
    }
   ],
   "source": [
    "print(df.to_latex())"
   ]
  }
 ],
 "metadata": {
  "kernelspec": {
   "display_name": "Python 3",
   "language": "python",
   "name": "python3"
  },
  "language_info": {
   "codemirror_mode": {
    "name": "ipython",
    "version": 3
   },
   "file_extension": ".py",
   "mimetype": "text/x-python",
   "name": "python",
   "nbconvert_exporter": "python",
   "pygments_lexer": "ipython3",
   "version": "3.5.2"
  }
 },
 "nbformat": 4,
 "nbformat_minor": 0
}
